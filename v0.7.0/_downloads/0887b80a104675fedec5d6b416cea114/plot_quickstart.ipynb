{
  "cells": [
    {
      "cell_type": "code",
      "execution_count": null,
      "metadata": {
        "collapsed": false
      },
      "outputs": [],
      "source": [
        "%matplotlib inline"
      ]
    },
    {
      "cell_type": "markdown",
      "metadata": {},
      "source": [
        "MetricFrame visualizations\n==========================\n"
      ]
    },
    {
      "cell_type": "code",
      "execution_count": null,
      "metadata": {
        "collapsed": false
      },
      "outputs": [],
      "source": [
        "from fairlearn.metrics import (\n    MetricFrame,\n    false_positive_rate,\n    true_positive_rate,\n    selection_rate,\n    count\n)\nimport pandas as pd\nfrom sklearn.datasets import fetch_openml\nfrom sklearn.metrics import accuracy_score, precision_score, recall_score\nfrom sklearn.tree import DecisionTreeClassifier\n\ndata = fetch_openml(data_id=1590, as_frame=True)\nX = pd.get_dummies(data.data)\ny_true = (data.target == \">50K\") * 1\nsex = data.data[\"sex\"]\n\nclassifier = DecisionTreeClassifier(min_samples_leaf=10, max_depth=4)\nclassifier.fit(X, y_true)\ny_pred = classifier.predict(X)\n\n# Analyze metrics using MetricFrame\nmetrics = {\n    'accuracy': accuracy_score,\n    'precision': precision_score,\n    'recall': recall_score,\n    'false positive rate': false_positive_rate,\n    'true positive rate': true_positive_rate,\n    'selection rate': selection_rate,\n    'count': count}\nmetric_frame = MetricFrame(metrics=metrics,\n                           y_true=y_true,\n                           y_pred=y_pred,\n                           sensitive_features=sex)\nmetric_frame.by_group.plot.bar(\n    subplots=True,\n    layout=[3, 3],\n    legend=False,\n    figsize=[12, 8],\n    title=\"Show all metrics\",\n)\n\n# Customize plots with ylim\nmetric_frame.by_group.plot(\n    kind=\"bar\",\n    ylim=[0, 1],\n    subplots=True,\n    layout=[3, 3],\n    legend=False,\n    figsize=[12, 8],\n    title=\"Show all metrics with assigned y-axis range\",\n)\n\n# Customize plots with colormap\nmetric_frame.by_group.plot(\n    kind=\"bar\",\n    subplots=True,\n    layout=[3, 3],\n    legend=False,\n    figsize=[12, 8],\n    colormap=\"Accent\",\n    title=\"Show all metrics in Accent colormap\",\n)\n\n# Customize plots with kind\nmetric_frame.by_group.plot(\n    kind=\"pie\",\n    subplots=True,\n    layout=[3, 3],\n    legend=False,\n    figsize=[12, 8],\n    title=\"Show all metrics in pie\",\n)"
      ]
    }
  ],
  "metadata": {
    "kernelspec": {
      "display_name": "Python 3",
      "language": "python",
      "name": "python3"
    },
    "language_info": {
      "codemirror_mode": {
        "name": "ipython",
        "version": 3
      },
      "file_extension": ".py",
      "mimetype": "text/x-python",
      "name": "python",
      "nbconvert_exporter": "python",
      "pygments_lexer": "ipython3",
      "version": "3.8.12"
    }
  },
  "nbformat": 4,
  "nbformat_minor": 0
}
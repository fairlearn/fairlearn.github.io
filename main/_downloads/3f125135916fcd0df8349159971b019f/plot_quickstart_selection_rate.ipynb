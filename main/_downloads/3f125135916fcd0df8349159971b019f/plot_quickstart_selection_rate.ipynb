{
  "cells": [
    {
      "cell_type": "code",
      "execution_count": null,
      "metadata": {
        "collapsed": false
      },
      "outputs": [],
      "source": [
        "%matplotlib inline"
      ]
    },
    {
      "cell_type": "markdown",
      "metadata": {},
      "source": [
        "Selection rates in census dataset\n=================================\n"
      ]
    },
    {
      "cell_type": "code",
      "execution_count": null,
      "metadata": {
        "collapsed": false
      },
      "outputs": [],
      "source": [
        "from fairlearn.metrics import MetricFrame, selection_rate\nfrom fairlearn.datasets import fetch_adult\n\ndata = fetch_adult(as_frame=True)\nX = data.data\ny_true = (data.target == '>50K') * 1\nsex = X['sex']\n\nselection_rates = MetricFrame(metrics=selection_rate,\n                              y_true=y_true,\n                              y_pred=y_true,\n                              sensitive_features=sex)\n\nfig = selection_rates.by_group.plot.bar(\n    legend=False, rot=0,\n    title='Fraction earning over $50,000')"
      ]
    }
  ],
  "metadata": {
    "kernelspec": {
      "display_name": "Python 3",
      "language": "python",
      "name": "python3"
    },
    "language_info": {
      "codemirror_mode": {
        "name": "ipython",
        "version": 3
      },
      "file_extension": ".py",
      "mimetype": "text/x-python",
      "name": "python",
      "nbconvert_exporter": "python",
      "pygments_lexer": "ipython3",
      "version": "3.8.12"
    }
  },
  "nbformat": 4,
  "nbformat_minor": 0
}
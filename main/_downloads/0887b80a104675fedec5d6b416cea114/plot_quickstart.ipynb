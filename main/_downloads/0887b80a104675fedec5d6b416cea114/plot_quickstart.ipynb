{
  "cells": [
    {
      "cell_type": "code",
      "execution_count": null,
      "metadata": {
        "collapsed": false
      },
      "outputs": [],
      "source": [
        "%matplotlib inline"
      ]
    },
    {
      "cell_type": "markdown",
      "metadata": {},
      "source": [
        "MetricFrame visualizations\n==========================\n"
      ]
    },
    {
      "cell_type": "code",
      "execution_count": null,
      "metadata": {
        "collapsed": false
      },
      "outputs": [],
      "source": [
        "import pandas as pd\nfrom fairlearn.datasets import fetch_adult\nfrom sklearn.metrics import accuracy_score, precision_score\nfrom sklearn.tree import DecisionTreeClassifier"
      ]
    },
    {
      "cell_type": "code",
      "execution_count": null,
      "metadata": {
        "collapsed": false
      },
      "outputs": [],
      "source": [
        "from fairlearn.metrics import (\n    MetricFrame,\n    count,\n    false_negative_rate,\n    false_positive_rate,\n    selection_rate,\n)\n\ndata = fetch_adult()\nX = pd.get_dummies(data.data)\ny_true = (data.target == \">50K\") * 1\nsex = data.data[\"sex\"]\n\nclassifier = DecisionTreeClassifier(min_samples_leaf=10, max_depth=4)\nclassifier.fit(X, y_true)\ny_pred = classifier.predict(X)\n\n# Analyze metrics using MetricFrame\nmetrics = {\n    \"accuracy\": accuracy_score,\n    \"precision\": precision_score,\n    \"false positive rate\": false_positive_rate,\n    \"false negative rate\": false_negative_rate,\n    \"selection rate\": selection_rate,\n    \"count\": count,\n}\nmetric_frame = MetricFrame(\n    metrics=metrics, y_true=y_true, y_pred=y_pred, sensitive_features=sex\n)\nmetric_frame.by_group.plot.bar(\n    subplots=True,\n    layout=[3, 3],\n    legend=False,\n    figsize=[12, 8],\n    title=\"Show all metrics\",\n)\n\n# Customize plots with ylim\nmetric_frame.by_group.plot(\n    kind=\"bar\",\n    ylim=[0, 1],\n    subplots=True,\n    layout=[3, 3],\n    legend=False,\n    figsize=[12, 8],\n    title=\"Show all metrics with assigned y-axis range\",\n)\n\n# Customize plots with colormap\nmetric_frame.by_group.plot(\n    kind=\"bar\",\n    subplots=True,\n    layout=[3, 3],\n    legend=False,\n    figsize=[12, 8],\n    colormap=\"Accent\",\n    title=\"Show all metrics in Accent colormap\",\n)\n\n# Customize plots with kind (note that we are only plotting the \"count\" metric here because we are showing a pie chart)\nmetric_frame.by_group[[\"count\"]].plot(\n    kind=\"pie\",\n    subplots=True,\n    layout=[1, 1],\n    legend=False,\n    figsize=[12, 8],\n    title=\"Show count metric in pie chart\",\n)\n\n# Saving plots\nfig = metric_frame.by_group[[\"count\"]].plot(\n    kind=\"pie\",\n    subplots=True,\n    layout=[1, 1],\n    legend=False,\n    figsize=[12, 8],\n    title=\"Show count metric in pie chart\",\n)\n\n# Don't save file during doc build\nif \"__file__\" in locals():\n    fig[0][0].figure.savefig(\"filename.png\")"
      ]
    }
  ],
  "metadata": {
    "kernelspec": {
      "display_name": "Python 3",
      "language": "python",
      "name": "python3"
    },
    "language_info": {
      "codemirror_mode": {
        "name": "ipython",
        "version": 3
      },
      "file_extension": ".py",
      "mimetype": "text/x-python",
      "name": "python",
      "nbconvert_exporter": "python",
      "pygments_lexer": "ipython3",
      "version": "3.8.12"
    }
  },
  "nbformat": 4,
  "nbformat_minor": 0
}